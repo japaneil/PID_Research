{
 "cells": [
  {
   "cell_type": "code",
   "execution_count": 13,
   "metadata": {},
   "outputs": [],
   "source": [
    "%matplotlib inline\n",
    "import time\n",
    "import matplotlib.pyplot as plt"
   ]
  },
  {
   "cell_type": "code",
   "execution_count": 14,
   "metadata": {},
   "outputs": [],
   "source": [
    "def pid_controller(setpoint, pv, kp, ki, kd, previous_error, integral, dt):\n",
    "    error = setpoint - pv\n",
    "    integral += error * dt\n",
    "    derivative = (error - previous_error) / dt\n",
    "    control = kp * error + ki * integral + kd * derivative\n",
    "    return control, error, integral"
   ]
  },
  {
   "cell_type": "code",
   "execution_count": 15,
   "metadata": {},
   "outputs": [],
   "source": [
    "def main():\n",
    "    setpoint = 100  # Desired setpoint\n",
    "    pv = 0  # Initial process variable\n",
    "    kp = 1.0  # Proportional gain\n",
    "    ki = 0.1  # Integral gain\n",
    "    kd = 0.05  # Derivative gain\n",
    "    previous_error = 0\n",
    "    integral = 0\n",
    "    dt = 0.1  # Time step\n",
    "    time_steps = []\n",
    "    pv_values = []\n",
    "    control_values = []\n",
    "    setpoint_values = []\n",
    "    for i in range(100):  # Simulate for 100 time steps\n",
    "            control, error, integral = pid_controller(setpoint, pv, kp, ki, kd, previous_error, integral, dt)\n",
    "            pv += control * dt  # Update process variable based on control output (simplified)\n",
    "            previous_error = error\n",
    "            time_steps.append(i * dt)\n",
    "            pv_values.append(pv)\n",
    "            control_values.append(control)\n",
    "            setpoint_values.append(setpoint)\n",
    "            time.sleep(dt)\n",
    "    plt.figure(figsize=(12, 6))\n",
    "        \n",
    "    plt.subplot(2, 1, 1)\n",
    "    plt.plot(time_steps, pv_values, label='Process Variable (PV)')\n",
    "    plt.plot(time_steps, setpoint_values, label='Setpoint', linestyle='--')\n",
    "    plt.xlabel('Time (s)')\n",
    "    plt.ylabel('Value')\n",
    "    plt.title('Process Variable vs. Setpoint')\n",
    "    plt.legend()\n",
    "    plt.subplot(2, 1, 2)\n",
    "    plt.plot(time_steps, control_values, label='Control Output')\n",
    "    plt.xlabel('Time (s)')\n",
    "    plt.ylabel('Control Output')\n",
    "    plt.title('Control Output over Time')\n",
    "    plt.legend()\n",
    "    plt.tight_layout()\n",
    "    plt.show()\n",
    "    if __name__ == \"__main__\":\n",
    "        main()"
   ]
  }
 ],
 "metadata": {
  "kernelspec": {
   "display_name": ".venv",
   "language": "python",
   "name": "python3"
  },
  "language_info": {
   "codemirror_mode": {
    "name": "ipython",
    "version": 3
   },
   "file_extension": ".py",
   "mimetype": "text/x-python",
   "name": "python",
   "nbconvert_exporter": "python",
   "pygments_lexer": "ipython3",
   "version": "3.11.9"
  }
 },
 "nbformat": 4,
 "nbformat_minor": 2
}
